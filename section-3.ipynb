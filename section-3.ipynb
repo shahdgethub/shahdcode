{
 "cells": [
  {
   "cell_type": "markdown",
   "metadata": {},
   "source": [
    "## Section-3"
   ]
  },
  {
   "cell_type": "markdown",
   "metadata": {},
   "source": [
    "### *OOP*"
   ]
  },
  {
   "cell_type": "code",
   "execution_count": 2,
   "metadata": {},
   "outputs": [
    {
     "name": "stdout",
     "output_type": "stream",
     "text": [
      "True\n"
     ]
    }
   ],
   "source": [
    "class FirstClass: # Define a class object\n",
    "     def setdata(self, value): # Define class methods\n",
    "         self.data = value # self is the instance\n",
    "     def display(self):\n",
    "         print(self.data) \n",
    "         \n",
    "         \n",
    "         \n",
    "x = FirstClass() # Make two instances\n",
    "y = FirstClass() # Each is a new namespace\n",
    "# print(x)\n",
    "# print(y)\n",
    "print(isinstance(x, FirstClass))"
   ]
  },
  {
   "cell_type": "code",
   "execution_count": 3,
   "metadata": {},
   "outputs": [
    {
     "name": "stdout",
     "output_type": "stream",
     "text": [
      "Ahmed\n",
      "3.14159\n",
      "##########################\n",
      "New value\n",
      "##########################\n",
      "spam\n"
     ]
    }
   ],
   "source": [
    "x.setdata(\"Ahmed\") # Runs: FirstClass.setdata(y, Ahmed)\n",
    "y.setdata(3.14159) # Runs: FirstClass.setdata(y, 3.14159)\n",
    "x.display()\n",
    "y.display()\n",
    "print(\"##########################\")\n",
    "x.data = \"New value\" # Can get/set attributes\n",
    "x.display()\n",
    "print(\"##########################\")\n",
    "x.anothername = \"spam\" # Can set new attributes here too!\n",
    "print(x.anothername)"
   ]
  },
  {
   "cell_type": "code",
   "execution_count": 4,
   "metadata": {},
   "outputs": [
    {
     "name": "stdout",
     "output_type": "stream",
     "text": [
      "The\tinit\tmethod was called\n",
      "Lara de Silva\n",
      "100\n"
     ]
    }
   ],
   "source": [
    "##Constructors explanations\n",
    "\n",
    "class Customer:\n",
    "    def __init__(self, name, balance):  \n",
    "        self.name = name\n",
    "        self.balance = balance\n",
    "        print(\"The\tinit\tmethod was called\")\n",
    "\n",
    "cust = Customer(\"Lara de Silva\" , 100) # <-- don't specify balance explicitly  print(cust.name)\n",
    "print(cust.name) # <-- attribute is created anyway\n",
    "print(cust.balance) # <-- attribute is created anyway"
   ]
  },
  {
   "cell_type": "code",
   "execution_count": 5,
   "metadata": {},
   "outputs": [
    {
     "name": "stdout",
     "output_type": "stream",
     "text": [
      "The\tinit\tmethod was called\n",
      "0\n"
     ]
    }
   ],
   "source": [
    "##Constructors with default values\n",
    "\n",
    "class Customer:\n",
    "    def\t__init__(self, name, balance=0):  \n",
    "        self.name = name\n",
    "        self.balance = balance\n",
    "        print(\"The\tinit\tmethod was called\")\n",
    "        \n",
    "\n",
    "cust = Customer(\"Lara de Silva\") # <-- don't specify balance explicitly  print(cust.name)\n",
    "print(cust.balance) # <-- attribute is created anyway\n"
   ]
  },
  {
   "cell_type": "code",
   "execution_count": 6,
   "metadata": {},
   "outputs": [
    {
     "name": "stdout",
     "output_type": "stream",
     "text": [
      "The\tinit\tmethod was called\n",
      "The\tinit\tmethod was called\n",
      "230\n"
     ]
    }
   ],
   "source": [
    "##Class other special functions\n",
    "\n",
    "class Customer:\n",
    "    def\t__init__(self, name, balance=0):  \n",
    "        self.name = name\n",
    "        self.balance = balance\n",
    "        print(\"The\tinit\tmethod was called\")\n",
    "        \n",
    "    def __str__(self):\n",
    "        return 'Customer : ' +str(self.name)+ ' , balance: ' + str(self.balance) \n",
    "    \n",
    "    def __add__(self, other): # On \"self + other\"\n",
    "        return Customer(\"Test_Customer\",self.balance + other)\n",
    "\n",
    "cust = Customer(\"Lara de Silva\") # <-- don't specify balance explicitly  print(cust.name)\n",
    "# print(cust.balance) # <-- attribute is created anyway\n",
    "# print(cust)\n",
    "c2 = cust + 230\n",
    "print(c2.balance)"
   ]
  },
  {
   "cell_type": "code",
   "execution_count": 7,
   "metadata": {},
   "outputs": [
    {
     "name": "stdout",
     "output_type": "stream",
     "text": [
      "Employee created.\n",
      "Destructor called, Employee deleted.\n"
     ]
    }
   ],
   "source": [
    "###Constructors Vs. Destructors\n",
    "class Employee:\n",
    "\n",
    "\t# Initializing\n",
    "\tdef __init__(self):\n",
    "\t\tprint('Employee created.')\n",
    "\n",
    "\t# Deleting (Calling destructor)\n",
    "\tdef __del__(self):\n",
    "\t\tprint('Destructor called, Employee deleted.')\n",
    "\n",
    "obj = Employee()\n",
    "del obj"
   ]
  },
  {
   "cell_type": "code",
   "execution_count": null,
   "metadata": {},
   "outputs": [],
   "source": []
  }
 ],
 "metadata": {
  "kernelspec": {
   "display_name": "base",
   "language": "python",
   "name": "python3"
  },
  "language_info": {
   "codemirror_mode": {
    "name": "ipython",
    "version": 3
   },
   "file_extension": ".py",
   "mimetype": "text/x-python",
   "name": "python",
   "nbconvert_exporter": "python",
   "pygments_lexer": "ipython3",
   "version": "3.9.13"
  }
 },
 "nbformat": 4,
 "nbformat_minor": 2
}
