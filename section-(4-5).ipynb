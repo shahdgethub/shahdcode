{
 "cells": [
  {
   "cell_type": "markdown",
   "metadata": {},
   "source": [
    "## Section(4-5)"
   ]
  },
  {
   "cell_type": "markdown",
   "metadata": {},
   "source": [
    "### Inheritance Explanation"
   ]
  },
  {
   "cell_type": "markdown",
   "metadata": {},
   "source": [
    "Base or Super class. Note object in bracket.\n",
    "(Generally, object is made ancestor of all classes)\n",
    "In Python 3.x \"class Person\" is\n",
    "equivalent to \"class Person(object)\""
   ]
  },
  {
   "cell_type": "code",
   "execution_count": 2,
   "metadata": {},
   "outputs": [
    {
     "name": "stdout",
     "output_type": "stream",
     "text": [
      "Ahmed False\n",
      "Ali True\n"
     ]
    }
   ],
   "source": [
    "class Person(object):\n",
    "\n",
    "\t# Constructor\n",
    "\tdef __init__(self, name):\n",
    "\t\tself.name = name\n",
    "\n",
    "\t# To get name\n",
    "\tdef getName(self):\n",
    "\t\treturn self.name\n",
    "\n",
    "\t# To check if this person is an employee\n",
    "\tdef isEmployee(self):\n",
    "\t\treturn False\n",
    "\n",
    "\n",
    "# Inherited or Subclass (Note Person in bracket)\n",
    "class Employee(Person):\n",
    "\n",
    "\t# Here we return true\n",
    "\tdef isEmployee(self):\n",
    "\t\treturn True\n",
    "\n",
    "\n",
    "# Driver code\n",
    "person = Person(\"Ahmed\") # An Object of Person\n",
    "print(person.getName(), person.isEmployee())\n",
    "\n",
    "emp = Employee(\"Ali\") # An Object of Employee\n",
    "print(emp.getName(), emp.isEmployee())"
   ]
  },
  {
   "cell_type": "code",
   "execution_count": 3,
   "metadata": {},
   "outputs": [
    {
     "name": "stdout",
     "output_type": "stream",
     "text": [
      "Rahul\n",
      "886012\n"
     ]
    }
   ],
   "source": [
    "# Python code to demonstrate how parent constructors\n",
    "# are called.\n",
    "\n",
    "## parent class\n",
    "class Person(object):\n",
    "\n",
    "\t# __init__ is known as the constructor\n",
    "\tdef __init__(self, name, idnumber):\n",
    "\t\tself.name = name\n",
    "\t\tself.idnumber = idnumber\n",
    "\n",
    "\tdef display(self):\n",
    "\t\tprint(self.name)\n",
    "\t\tprint(self.idnumber)\n",
    "\n",
    "# child class\n",
    "class Employee(Person):\n",
    "\tdef __init__(self, name, idnumber, salary, post):\n",
    "\t\tself.salary = salary\n",
    "\t\tself.post = post\n",
    "\n",
    "\t\t# invoking the __init__ of the parent class\n",
    "\t\tPerson.__init__(self, name, idnumber)\n",
    "\n",
    "# creation of an object variable or an instance\n",
    "a = Employee('Rahul', 886012, 200000, \"Intern\")\n",
    "\n",
    "# calling a function of the class Person using its instance\n",
    "a.display()"
   ]
  },
  {
   "cell_type": "markdown",
   "metadata": {},
   "source": [
    "### Python code to demonstrate how to use super()\n"
   ]
  },
  {
   "cell_type": "code",
   "execution_count": 6,
   "metadata": {},
   "outputs": [
    {
     "name": "stdout",
     "output_type": "stream",
     "text": [
      "Osama 23\n",
      "Khalid 23\n"
     ]
    }
   ],
   "source": [
    "\"\"\"\n",
    "A Class in Python has three types of access modifiers:\n",
    "    \n",
    "    Public Access Modifier\n",
    "    Protected Access Modifier\n",
    "    Private Access Modifier\n",
    "\"\"\"\n",
    "\n",
    "\"\"\"\n",
    "Public Access Modifier: \n",
    "    \n",
    "    All data members and member functions of a class are public by default. \n",
    "\"\"\"\n",
    "\n",
    "# parent class\n",
    "class Person():\n",
    "    def __init__(self, name, age):\n",
    "        self.name = name\n",
    "        self.age = age\n",
    "    \n",
    "    def display(self):\n",
    "    \tprint(self.name, self.age)\n",
    "# child class\n",
    "class Student(Person):\n",
    "    def __init__(self, name, age):\n",
    "        self.sName = name\n",
    "        self.sAge = age\n",
    "    \t# inheriting the properties of parent class \n",
    "        super().__init__(\"Osama\", age)\n",
    "    \n",
    "    def displayInfo(self):\n",
    "    \tprint(self.sName, self.sAge)\n",
    "\n",
    "obj = Student(\"Khalid\", 23)\n",
    "obj.display()\n",
    "obj.displayInfo()"
   ]
  },
  {
   "cell_type": "code",
   "execution_count": 15,
   "metadata": {},
   "outputs": [
    {
     "name": "stdout",
     "output_type": "stream",
     "text": [
      "Name:  Ali\n",
      "Roll:  1706256\n",
      "Branch:  Information Technology\n"
     ]
    }
   ],
   "source": [
    "\"\"\"\n",
    "Protected Access Modifier:\n",
    "    The members of a class that are declared protected are only accessible to a class derived \n",
    "    from it. Data members of a class are declared protected by adding a single underscore ‘_’ \n",
    "\"\"\"\n",
    "# program to illustrate protected access modifier in a class\n",
    "\n",
    "class Student:\n",
    "\t\n",
    "\t# protected data members\n",
    "\t_name = None\n",
    "\t_roll = None\n",
    "\t_branch = None\n",
    "\t\n",
    "\t# constructor\n",
    "\tdef __init__(self, name, roll, branch): \n",
    "\t\tself._name = name\n",
    "\t\tself._roll = roll\n",
    "\t\tself._branch = branch\n",
    "\t\n",
    "\t# protected member function \n",
    "\tdef _displayRollAndBranch(self):\n",
    "\n",
    "\t\t# accessing protected data members\n",
    "\t\tprint(\"Roll: \", self._roll)\n",
    "\t\tprint(\"Branch: \", self._branch)\n",
    "\n",
    "\n",
    "# derived class\n",
    "class Geek(Student):\n",
    "    def __init__(self, name, roll, branch): \n",
    "        Student.__init__(self, name, roll, branch) \n",
    "         \n",
    "    def displayDetails(self):\n",
    "        print(\"Name: \", self._name) \n",
    "        self._displayRollAndBranch()\n",
    "\n",
    "# creating objects of the derived class\t \n",
    "obj = Geek(\"Ali\", 1706256, \"Information Technology\") \n",
    "\n",
    "# calling public member functions of the class\n",
    "obj.displayDetails() "
   ]
  },
  {
   "cell_type": "code",
   "execution_count": 16,
   "metadata": {},
   "outputs": [
    {
     "name": "stdout",
     "output_type": "stream",
     "text": [
      "Name:  Osama\n",
      "Roll:  1706256\n",
      "Branch:  Information Technology\n"
     ]
    }
   ],
   "source": [
    "\"\"\"\n",
    "Private Access Modifier:\n",
    "    The members of a class that are declared private are accessible within the class only, \n",
    "    Data members of a class are declared private by adding a double underscore ‘__’\n",
    "\"\"\"\n",
    "\n",
    "# program to illustrate private access modifier in a class\n",
    "\n",
    "class Geek:\n",
    "\t\n",
    "\t# private members\n",
    "\t__name = None\n",
    "\t__roll = None\n",
    "\t__branch = None\n",
    "\n",
    "\t# constructor\n",
    "\tdef __init__(self, name, roll, branch): \n",
    "\t\tself.__name = name\n",
    "\t\tself.__roll = roll\n",
    "\t\tself.__branch = branch\n",
    "\n",
    "\t# private member function \n",
    "\tdef __displayDetails(self):\n",
    "\t\t# accessing private data members\n",
    "\t\tprint(\"Name: \", self.__name)\n",
    "\t\tprint(\"Roll: \", self.__roll)\n",
    "\t\tprint(\"Branch: \", self.__branch)\n",
    "\t\n",
    "\t# public member function\n",
    "\tdef accessPrivateFunction(self):\n",
    "\t\t# accessing private member function\n",
    "\t\tself.__displayDetails() \n",
    "\n",
    "\t# getter method for name\n",
    "\tdef get_name(self):\n",
    "\t\tself.__name \n",
    "        \n",
    "\t# setter method name\n",
    "\tdef set_name(self , name):\n",
    "\t\tself.__name = name \n",
    "\n",
    "\t# getter method for roll\n",
    "\tdef get_roll(self):\n",
    "\t\tself.__roll\n",
    "        \n",
    "\t# setter method roll\n",
    "\tdef set_roll(self , roll):\n",
    "\t\tself.__roll = roll \n",
    "\n",
    "\t# getter method for branch\n",
    "\tdef get_branch(self):\n",
    "\t\tself.__branch\n",
    "        \n",
    "\t# setter method branch\n",
    "\tdef set_branch(self , branch):\n",
    "\t\tself.__branch = branch \n",
    "\n",
    "             \n",
    "# creating object \n",
    "obj = Geek(\"Osama\", 1706256, \"Information Technology\")\n",
    "\n",
    "# calling public member function of the class\n",
    "obj.accessPrivateFunction()\n"
   ]
  },
  {
   "cell_type": "code",
   "execution_count": null,
   "metadata": {},
   "outputs": [],
   "source": []
  }
 ],
 "metadata": {
  "kernelspec": {
   "display_name": "base",
   "language": "python",
   "name": "python3"
  },
  "language_info": {
   "codemirror_mode": {
    "name": "ipython",
    "version": 3
   },
   "file_extension": ".py",
   "mimetype": "text/x-python",
   "name": "python",
   "nbconvert_exporter": "python",
   "pygments_lexer": "ipython3",
   "version": "3.9.13"
  }
 },
 "nbformat": 4,
 "nbformat_minor": 2
}
