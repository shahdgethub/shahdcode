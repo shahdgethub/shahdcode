{
 "cells": [
  {
   "cell_type": "markdown",
   "metadata": {},
   "source": [
    "## Section-1\n",
    "### revision"
   ]
  },
  {
   "cell_type": "code",
   "execution_count": 4,
   "metadata": {},
   "outputs": [
    {
     "name": "stdout",
     "output_type": "stream",
     "text": [
      "3 is a prime number\n",
      "4 equals 2  * 2.0\n",
      "5 is a prime number\n",
      "5 is a prime number\n",
      "5 is a prime number\n",
      "6 equals 2  * 3.0\n",
      "7 is a prime number\n",
      "7 is a prime number\n",
      "7 is a prime number\n",
      "7 is a prime number\n",
      "7 is a prime number\n",
      "8 equals 2  * 4.0\n",
      "9 is a prime number\n",
      "9 equals 3  * 3.0\n"
     ]
    }
   ],
   "source": [
    "max_n = 10\n",
    "for n in range(2, max_n):\n",
    "    for x in range(2, n):\n",
    "        if n % x == 0: # n divisible by x\n",
    "            print (n, 'equals' , x, ' *' , n/x)\n",
    "            break\n",
    "        else: \n",
    "            print (n, 'is a prime number')\n",
    "            # executed if no break in for loop\n",
    "# loop fell through without finding a factor\n"
   ]
  },
  {
   "cell_type": "code",
   "execution_count": null,
   "metadata": {},
   "outputs": [],
   "source": []
  }
 ],
 "metadata": {
  "kernelspec": {
   "display_name": "Python 3",
   "language": "python",
   "name": "python3"
  },
  "language_info": {
   "codemirror_mode": {
    "name": "ipython",
    "version": 3
   },
   "file_extension": ".py",
   "mimetype": "text/x-python",
   "name": "python",
   "nbconvert_exporter": "python",
   "pygments_lexer": "ipython3",
   "version": "3.9.13"
  }
 },
 "nbformat": 4,
 "nbformat_minor": 2
}
