{
 "cells": [
  {
   "cell_type": "markdown",
   "metadata": {},
   "source": [
    "## Section(6-7)"
   ]
  },
  {
   "cell_type": "markdown",
   "metadata": {},
   "source": [
    "### Adding properties to child class"
   ]
  },
  {
   "cell_type": "code",
   "execution_count": 1,
   "metadata": {},
   "outputs": [
    {
     "name": "stdout",
     "output_type": "stream",
     "text": [
      "Mayank 23\n",
      "Mayank 23 16-03-2000\n"
     ]
    }
   ],
   "source": [
    "# parent class\n",
    "class Person():\n",
    "    def __init__(self, name, age):\n",
    "        self.name = name\n",
    "        self.age = age\n",
    "    \n",
    "    def display(self):\n",
    "    \tprint(self.name, self.age)\n",
    "    \n",
    "    # child class\n",
    "class Student(Person):\n",
    "    def __init__(self, name, age, dob):\n",
    "        self.dob = dob\n",
    "    \t# inheriting the properties of parent class\n",
    "        super().__init__(name, age)\n",
    "    \n",
    "    def displayInfo(self):\n",
    "    \tprint(self.name, self.age, self.dob)\n",
    "\n",
    "obj = Student(\"Mayank\", 23, \"16-03-2000\")\n",
    "obj.display()\n",
    "obj.displayInfo()"
   ]
  },
  {
   "cell_type": "code",
   "execution_count": 2,
   "metadata": {},
   "outputs": [
    {
     "name": "stdout",
     "output_type": "stream",
     "text": [
      "Base1\n",
      "Base2\n",
      "Derived\n",
      "Geek1 Geek2\n"
     ]
    }
   ],
   "source": [
    "# Python example to show the working of multiple\n",
    "# inheritance\n",
    "\n",
    "class Base1(object):\n",
    "\tdef __init__(self):\n",
    "\t\tself.str1 = \"Geek1\"\n",
    "\t\tprint(\"Base1\")\n",
    "\n",
    "\n",
    "class Base2(object):\n",
    "\tdef __init__(self):\n",
    "\t\tself.str2 = \"Geek2\"\n",
    "\t\tprint(\"Base2\")\n",
    "\n",
    "\n",
    "class Derived(Base1, Base2):\n",
    "\tdef __init__(self):\n",
    "\n",
    "\t\t# Calling constructors of Base1\n",
    "\t\t# and Base2 classes\n",
    "\t\tBase1.__init__(self)\n",
    "\t\tBase2.__init__(self)\n",
    "\t\tprint(\"Derived\")\n",
    "\n",
    "\tdef printStrs(self):\n",
    "\t\tprint(self.str1, self.str2)\n",
    "\n",
    "\n",
    "ob = Derived()\n",
    "ob.printStrs()"
   ]
  },
  {
   "cell_type": "markdown",
   "metadata": {},
   "source": [
    "### A Python program to demonstrate multilevel \n"
   ]
  },
  {
   "cell_type": "code",
   "execution_count": 3,
   "metadata": {},
   "outputs": [
    {
     "name": "stdout",
     "output_type": "stream",
     "text": [
      "Geek1 23 Noida\n"
     ]
    }
   ],
   "source": [
    "class Base(object):\n",
    "\n",
    "\t# Constructor\n",
    "\tdef __init__(self, name):\n",
    "\t\tself.name = name\n",
    "\n",
    "\t# To get name\n",
    "\tdef getName(self):\n",
    "\t\treturn self.name\n",
    "\n",
    "\n",
    "# Inherited or Sub class (Note Person in bracket)\n",
    "class Child(Base):\n",
    "\n",
    "\t# Constructor\n",
    "\tdef __init__(self, name, age):\n",
    "\t\tBase.__init__(self, name)\n",
    "\t\tself.age = age\n",
    "\n",
    "\t# To get name\n",
    "\tdef getAge(self):\n",
    "\t\treturn self.age\n",
    "\n",
    "# Inherited or Sub class (Note Person in bracket)\n",
    "\n",
    "\n",
    "class GrandChild(Child):\n",
    "\n",
    "\t# Constructor\n",
    "\tdef __init__(self, name, age, address):\n",
    "\t\tChild.__init__(self, name, age)\n",
    "\t\tself.address = address\n",
    "\n",
    "\t# To get address\n",
    "\tdef getAddress(self):\n",
    "\t\treturn self.address\n",
    "\n",
    "\n",
    "# Driver code\n",
    "g = GrandChild(\"Geek1\", 23, \"Noida\")\n",
    "print(g.getName(), g.getAge(), g.getAddress())"
   ]
  },
  {
   "cell_type": "code",
   "execution_count": 4,
   "metadata": {},
   "outputs": [
    {
     "name": "stdout",
     "output_type": "stream",
     "text": [
      "Name:  Khalid\n",
      "Id:  257853\n",
      "Khalid\n",
      "257853\n"
     ]
    }
   ],
   "source": [
    "class Person(object):\n",
    "\n",
    " \t# __init__ is known as the constructor\n",
    " \tdef __init__(self, name, idnumber):\n",
    "         self.name = name\n",
    "         self.idnumber = idnumber\n",
    "\n",
    " \tdef display(self):\n",
    "         print(self.name)\n",
    "         print(self.idnumber)\n",
    "\n",
    "\n",
    "\n",
    "obj = Person(\"Khalid\", 257853)\n",
    "\n",
    "# accessing public data member\n",
    "print(\"Name: \", obj.name)\n",
    "print(\"Id: \", obj.idnumber)\n",
    "\n",
    "\n",
    "# calling public member function of the class\n",
    "obj.display()\n"
   ]
  },
  {
   "cell_type": "markdown",
   "metadata": {},
   "source": [
    "### Conditional Inheritance in Python"
   ]
  },
  {
   "cell_type": "code",
   "execution_count": 5,
   "metadata": {},
   "outputs": [
    {
     "name": "stdout",
     "output_type": "stream",
     "text": [
      "True\n",
      "False\n",
      "False\n",
      "True\n"
     ]
    }
   ],
   "source": [
    "class A(object): \n",
    "\tdef __init__(self, x): \n",
    "\t\tself.x = x \n",
    "\t\n",
    "\tdef getX(self): \n",
    "\t\treturn self.X \n",
    "\t\n",
    "class B(object): \n",
    "\tdef __init__(self, x, y): \n",
    "\t\tself.x = x \n",
    "\t\tself.y = y \n",
    "\tdef getSum(self): \n",
    "\t\treturn self.X + self.y \n",
    "\n",
    "\n",
    "# inherits from A \n",
    "class C_A(A): \n",
    "\tdef isA(self): \n",
    "\t\treturn True\n",
    "\t\n",
    "\tdef isB(self): \n",
    "\t\treturn False\n",
    "\n",
    "\n",
    "# inherits from B \n",
    "class C_B(B): \n",
    "\tdef isA(self): \n",
    "\t\treturn False\n",
    "\t\n",
    "\tdef isB(self): \n",
    "\t\treturn True\n",
    "\n",
    "# return required Object of C based on cond \n",
    "def getC(cond): \n",
    "\tif cond: \n",
    "\t\treturn C_A(1) \n",
    "\telse: \n",
    "\t\treturn C_B(1,2) \n",
    "\n",
    "# Object of C_A \n",
    "ca = getC(True) \n",
    "print(ca.isA()) \n",
    "print(ca.isB()) \n",
    "\t\n",
    "# Object of C_B \n",
    "cb = getC(False) \n",
    "print(cb.isA()) \n",
    "print(cb.isB()) "
   ]
  },
  {
   "cell_type": "code",
   "execution_count": 6,
   "metadata": {},
   "outputs": [
    {
     "name": "stdout",
     "output_type": "stream",
     "text": [
      "True\n"
     ]
    }
   ],
   "source": [
    "class A(object): \n",
    "\tdef __init__(self, x): \n",
    "\t\tself.x = x \n",
    "\t\n",
    "\tdef getX(self): \n",
    "\t\treturn self.X \n",
    "\n",
    "# Based on condition C inherits \n",
    "# from A or it inherits from \n",
    "# object i.e. does not inherit A \n",
    "cond = True\n",
    "\n",
    "# inherits from A or B \n",
    "class C(A if cond else object): \n",
    "\tdef isA(self): \n",
    "\t\treturn True\n",
    "\n",
    "# Object of C_A \n",
    "ca = C(1) \n",
    "print(ca.isA()) \n"
   ]
  },
  {
   "cell_type": "code",
   "execution_count": 7,
   "metadata": {},
   "outputs": [
    {
     "name": "stdout",
     "output_type": "stream",
     "text": [
      "cse\n",
      "cse\n",
      "Geek\n",
      "Nerd\n",
      "1\n",
      "2\n",
      "cse\n",
      "mech\n",
      "mech\n"
     ]
    }
   ],
   "source": [
    "\"\"\"\n",
    "Class or Static Variables\n",
    "\n",
    "> a static variable is a variable that is shared among all instances of a class, \n",
    "    rather than being unique to each instance.\n",
    "    \n",
    "> Static variables are defined inside the class definition, but outside of any method definitions. \n",
    "\n",
    "> They are typically initialized with a value, just like an instance variable, \n",
    "  but they can be accessed and modified through the class itself, rather than through an instance.    \n",
    "\"\"\"\n",
    "\n",
    "# Python program to show that the variables with a value \n",
    "# assigned in class declaration, are class variables\n",
    "\n",
    "# Class for Computer Science Student\n",
    "class CSStudent:\n",
    "\tstream = 'cse'\t\t\t\t # Class Variable (Static)\n",
    "\tdef __init__(self,name,roll):\n",
    "\t\tself.name = name\t\t # Instance Variable\n",
    "\t\tself.roll = roll\t\t # Instance Variable\n",
    "\n",
    "# Objects of CSStudent class\n",
    "a = CSStudent('Geek', 1)\n",
    "b = CSStudent('Nerd', 2)\n",
    "\n",
    "print(a.stream) # prints \"cse\"\n",
    "print(b.stream) # prints \"cse\"\n",
    "print(a.name) # prints \"Geek\"\n",
    "print(b.name) # prints \"Nerd\"\n",
    "print(a.roll) # prints \"1\"\n",
    "print(b.roll) # prints \"2\"\n",
    "\n",
    "# Class variables can be accessed using class\n",
    "# name also\n",
    "print(CSStudent.stream) # prints \"cse\"\n",
    "\n",
    "\n",
    "# To change the stream for all instances of the class we can change it \n",
    "# directly from the class\n",
    "CSStudent.stream = 'mech'\n",
    "\n",
    "print(a.stream) # prints 'mech'\n",
    "print(b.stream) # prints 'mech'\n"
   ]
  },
  {
   "cell_type": "code",
   "execution_count": null,
   "metadata": {},
   "outputs": [],
   "source": []
  }
 ],
 "metadata": {
  "kernelspec": {
   "display_name": "base",
   "language": "python",
   "name": "python3"
  },
  "language_info": {
   "codemirror_mode": {
    "name": "ipython",
    "version": 3
   },
   "file_extension": ".py",
   "mimetype": "text/x-python",
   "name": "python",
   "nbconvert_exporter": "python",
   "pygments_lexer": "ipython3",
   "version": "3.9.13"
  }
 },
 "nbformat": 4,
 "nbformat_minor": 2
}
