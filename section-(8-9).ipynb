{
 "cells": [
  {
   "cell_type": "markdown",
   "metadata": {},
   "source": [
    "## Section(8-9)"
   ]
  },
  {
   "cell_type": "markdown",
   "metadata": {},
   "source": [
    "### method overriding & overloading"
   ]
  },
  {
   "cell_type": "code",
   "execution_count": 2,
   "metadata": {},
   "outputs": [
    {
     "name": "stdout",
     "output_type": "stream",
     "text": [
      "Inside Parent\n",
      "Inside Child\n"
     ]
    }
   ],
   "source": [
    "# method overriding\n",
    "#Defining parent class \n",
    "class Parent(): \n",
    "\t\n",
    "\t# Constructor \n",
    "\tdef __init__(self): \n",
    "\t\tself.value = \"Inside Parent\"\n",
    "\t\t\n",
    "\t# Parent's show method \n",
    "\tdef show(self): \n",
    "\t\tprint(self.value) \n",
    "\t\t\n",
    "# Defining child class \n",
    "class Child(Parent): \n",
    "\t\n",
    "\t# Constructor \n",
    "\tdef __init__(self): \n",
    "\t\tself.value = \"Inside Child\"\n",
    "\t\t\n",
    "\t# Child's show method \n",
    "\tdef show(self): \n",
    "\t\tprint(self.value) \n",
    "\t\t\n",
    "\t\t\n",
    "# Driver's code \n",
    "obj1 = Parent() \n",
    "obj2 = Child() \n",
    "\n",
    "obj1.show() \n",
    "obj2.show() \n"
   ]
  },
  {
   "cell_type": "code",
   "execution_count": 3,
   "metadata": {},
   "outputs": [
    {
     "name": "stdout",
     "output_type": "stream",
     "text": [
      "Inside Parent\n",
      "Inside Child\n"
     ]
    }
   ],
   "source": [
    "# Python program to demonstrate \n",
    "# calling the parent's class method \n",
    "# inside the overridden method \n",
    "\n",
    "class Parent(): \n",
    "\t\n",
    "\tdef show(self): \n",
    "\t\tprint(\"Inside Parent\") \n",
    "\t\t\n",
    "class Child(Parent): \n",
    "\t\n",
    "\tdef show(self): \n",
    "\t\t\n",
    "\t\t# Calling the parent's class \n",
    "\t\t# method \n",
    "\t\tParent.show(self)    #or super().show()\n",
    "\t\tprint(\"Inside Child\") \n",
    "\t\t\n",
    "# Driver's code \n",
    "obj = Child() \n",
    "obj.show() "
   ]
  },
  {
   "cell_type": "code",
   "execution_count": 4,
   "metadata": {},
   "outputs": [
    {
     "name": "stdout",
     "output_type": "stream",
     "text": [
      "100\n"
     ]
    }
   ],
   "source": [
    "\"\"\"\n",
    "    Method Overloading in Python\n",
    "    \n",
    "    Two or more methods have the same name but different numbers of parameters or different types \n",
    "    of parameters, or both. These methods are called overloaded methods and this is called method \n",
    "    overloading. \n",
    "    \n",
    "    Like other languages (for example, method overloading in C++) do, python does not support method \n",
    "    overloading by default. But there are different ways to achieve method overloading in Python. \n",
    "\"\"\"\n",
    "\n",
    "# First product method.\n",
    "# Takes two argument and print their\n",
    "# product\n",
    "\n",
    "\n",
    "def product(a, b):\n",
    "\tp = a * b\n",
    "\tprint(p)\n",
    "\n",
    "# Second product method\n",
    "# Takes three argument and print their\n",
    "# product\n",
    "\n",
    "\n",
    "def product(a, b, c):\n",
    "\tp = a * b*c\n",
    "\tprint(p)\n",
    "\n",
    "# Uncommenting the below line shows an error\n",
    "# product(4, 5)\n",
    "\n",
    "\n",
    "# This line will call the second product method\n",
    "product(4, 5, 5)"
   ]
  },
  {
   "cell_type": "code",
   "execution_count": 5,
   "metadata": {},
   "outputs": [
    {
     "name": "stdout",
     "output_type": "stream",
     "text": [
      "11\n",
      "Hi Geeks\n"
     ]
    }
   ],
   "source": [
    "\"\"\"\n",
    "Solution : Method 1 (Not The Most Efficient Method):\n",
    "\"\"\"\n",
    "\n",
    "# Function to take multiple arguments\n",
    "def add(datatype, *args):\n",
    "\n",
    "\t# if datatype is int\n",
    "\t# initialize answer as 0\n",
    "\tif datatype == 'int':\n",
    "\t\tanswer = 0\n",
    "\n",
    "\t# if datatype is str\n",
    "\t# initialize answer as ''\n",
    "\tif datatype == 'str':\n",
    "\t\tanswer = ''\n",
    "\n",
    "\t# Traverse through the arguments\n",
    "\tfor x in args:\n",
    "\n",
    "\t\t# This will do addition if the\n",
    "\t\t# arguments are int. Or concatenation\n",
    "\t\t# if the arguments are str\n",
    "\t\tanswer = answer + x\n",
    "\n",
    "\tprint(answer)\n",
    "\n",
    "\n",
    "# Integer\n",
    "add('int', 5, 6)\n",
    "\n",
    "# String\n",
    "add('str', 'Hi ', 'Geeks')"
   ]
  },
  {
   "cell_type": "code",
   "execution_count": 6,
   "metadata": {},
   "outputs": [
    {
     "name": "stdout",
     "output_type": "stream",
     "text": [
      "5\n",
      "2\n"
     ]
    }
   ],
   "source": [
    "\"\"\"\n",
    "Solution : Method 2 (Not the efficient one):\n",
    "\"\"\"\n",
    "# code\n",
    "def add(a=None, b=None):\n",
    "\t# Checks if both parameters are available\n",
    "\t# if statement will be executed if only one parameter is available\n",
    "\tif a != None and b == None:\n",
    "\t\tprint(a)\n",
    "\t# else will be executed if both are available and returns addition of two\n",
    "\telse:\n",
    "\t\tprint(a+b)\n",
    "\n",
    "\n",
    "# two arguments are passed, returns addition of two\n",
    "add(2, 3)\n",
    "# only one argument is passed, returns a\n",
    "add(2)"
   ]
  },
  {
   "cell_type": "code",
   "execution_count": 8,
   "metadata": {},
   "outputs": [
    {
     "name": "stdout",
     "output_type": "stream",
     "text": [
      "6\n",
      "12\n",
      "17.204\n"
     ]
    }
   ],
   "source": [
    "\"\"\"\n",
    "Solution : Method 3 (Efficient One)\n",
    "    By Using Multiple Dispatch Decorator \n",
    "    Multiple Dispatch Decorator Can be installed by: \n",
    "        \n",
    "        conda install -c anaconda multipledispatch\n",
    "\"\"\"\n",
    "from multipledispatch import dispatch\n",
    "\n",
    "# passing one parameter\n",
    "\n",
    "@dispatch(int, int)\n",
    "def product(first, second):\n",
    "\tresult = first*second\n",
    "\tprint(result)\n",
    "\n",
    "# passing two parameters\n",
    "\n",
    "\n",
    "@dispatch(int, int, int)\n",
    "def product(first, second, third):\n",
    "\tresult = first * second * third\n",
    "\tprint(result)\n",
    "\n",
    "# you can also pass data type of any value as per requirement\n",
    "\n",
    "\n",
    "@dispatch(float, float, float)\n",
    "def product(first, second, third):\n",
    "\tresult = first * second * third\n",
    "\tprint(result)\n",
    "\n",
    "\n",
    "# calling product method with 2 arguments\n",
    "product(2, 3) # this will give output of 6\n",
    "\n",
    "# calling product method with 3 arguments but all int\n",
    "product(2, 3, 2) # this will give output of 12\n",
    "\n",
    "# calling product method with 3 arguments but all float\n",
    "product(2.2, 3.4, 2.3) # this will give output of 17.985999999999997\n"
   ]
  },
  {
   "cell_type": "code",
   "execution_count": null,
   "metadata": {},
   "outputs": [],
   "source": []
  }
 ],
 "metadata": {
  "kernelspec": {
   "display_name": "base",
   "language": "python",
   "name": "python3"
  },
  "language_info": {
   "codemirror_mode": {
    "name": "ipython",
    "version": 3
   },
   "file_extension": ".py",
   "mimetype": "text/x-python",
   "name": "python",
   "nbconvert_exporter": "python",
   "pygments_lexer": "ipython3",
   "version": "3.9.13"
  }
 },
 "nbformat": 4,
 "nbformat_minor": 2
}
