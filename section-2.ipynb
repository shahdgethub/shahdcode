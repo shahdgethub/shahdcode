{
 "cells": [
  {
   "cell_type": "markdown",
   "metadata": {},
   "source": [
    "# Section-2"
   ]
  },
  {
   "cell_type": "markdown",
   "metadata": {},
   "source": [
    "### *Functions*"
   ]
  },
  {
   "cell_type": "code",
   "execution_count": 1,
   "metadata": {},
   "outputs": [],
   "source": [
    "def loop():\n",
    "    for x in range(10):\n",
    "        print (x)\n",
    "        if x == 3:\n",
    "            return"
   ]
  },
  {
   "cell_type": "code",
   "execution_count": 2,
   "metadata": {},
   "outputs": [
    {
     "name": "stdout",
     "output_type": "stream",
     "text": [
      "1 2\n"
     ]
    }
   ],
   "source": [
    "x = 1\n",
    "def add_one(x):\n",
    "    x = x + 1 # add one to the local x\n",
    "    return x\n",
    "# call the function\n",
    "y = add_one(x)\n",
    "print (x,y)"
   ]
  },
  {
   "cell_type": "markdown",
   "metadata": {},
   "source": [
    "##                           Functions within functions\n",
    "- It is possible to define functions within functions, just as we can define variables within functions."
   ]
  },
  {
   "cell_type": "code",
   "execution_count": 3,
   "metadata": {},
   "outputs": [
    {
     "name": "stdout",
     "output_type": "stream",
     "text": [
      "4\n",
      "12\n"
     ]
    },
    {
     "ename": "NameError",
     "evalue": "name 'function2' is not defined",
     "output_type": "error",
     "traceback": [
      "\u001b[1;31m---------------------------------------------------------------------------\u001b[0m",
      "\u001b[1;31mNameError\u001b[0m                                 Traceback (most recent call last)",
      "Cell \u001b[1;32mIn[3], line 9\u001b[0m\n\u001b[0;32m      7\u001b[0m a \u001b[38;5;241m=\u001b[39m function1(\u001b[38;5;241m2\u001b[39m) \u001b[38;5;66;03m# what is the output\u001b[39;00m\n\u001b[0;32m      8\u001b[0m \u001b[38;5;28mprint\u001b[39m (a)\n\u001b[1;32m----> 9\u001b[0m b \u001b[38;5;241m=\u001b[39m \u001b[43mfunction2\u001b[49m(\u001b[38;5;241m2.5\u001b[39m) \n",
      "\u001b[1;31mNameError\u001b[0m: name 'function2' is not defined"
     ]
    }
   ],
   "source": [
    "def function1(x):\n",
    "    def function2(y):\n",
    "        print (y + 2)\n",
    "        return y + 2\n",
    "    return 3 * function2(x)\n",
    "# call the function\n",
    "a = function1(2) # what is the output\n",
    "print (a)\n",
    "b = function2(2.5) "
   ]
  },
  {
   "cell_type": "markdown",
   "metadata": {},
   "source": [
    "##                             Global Keyword\n",
    "- You could change global variables within a function (but it is not recommended).\n"
   ]
  },
  {
   "cell_type": "code",
   "execution_count": 7,
   "metadata": {},
   "outputs": [],
   "source": [
    "x = 0\n",
    "def incr_x():\n",
    "    x = x + 1 # does not work\n",
    "def incr_x2():\n",
    "    global x\n",
    "    x = x + 1  # does work\n",
    "incr_x2()"
   ]
  },
  {
   "cell_type": "markdown",
   "metadata": {},
   "source": [
    "## Scope"
   ]
  },
  {
   "cell_type": "code",
   "execution_count": 19,
   "metadata": {},
   "outputs": [
    {
     "name": "stdout",
     "output_type": "stream",
     "text": [
      "1\n",
      "2\n",
      "6\n"
     ]
    }
   ],
   "source": [
    "def f1():\n",
    "    global x\n",
    "    x = x + 1\n",
    "    return x\n",
    "def f2():\n",
    "    return x+1\n",
    "def f3():\n",
    "    x = 5\n",
    "    return x+1\n",
    "x = 0\n",
    "print (f1())\n",
    "print (f2())\n",
    "print (f3())"
   ]
  },
  {
   "cell_type": "markdown",
   "metadata": {},
   "source": [
    "## Default arguments\n",
    "- The default values are used if the user does not supply a value.\n",
    "- It is sometimes convenient to have default arguments."
   ]
  },
  {
   "cell_type": "code",
   "execution_count": 20,
   "metadata": {},
   "outputs": [
    {
     "name": "stdout",
     "output_type": "stream",
     "text": [
      "0\n",
      "1\n",
      "2\n",
      "-1\n"
     ]
    }
   ],
   "source": [
    "def func(x, a = 1, b = 2):\n",
    "    return x + a - b\n",
    "print (func(1)) # returns 0\n",
    "print (func(1, 2)) # returns 1\n",
    "print (func(1, 2, 1)) # returns 2\n",
    "print (func(1, b = 3)) "
   ]
  },
  {
   "cell_type": "code",
   "execution_count": null,
   "metadata": {},
   "outputs": [],
   "source": []
  }
 ],
 "metadata": {
  "kernelspec": {
   "display_name": "base",
   "language": "python",
   "name": "python3"
  },
  "language_info": {
   "codemirror_mode": {
    "name": "ipython",
    "version": 3
   },
   "file_extension": ".py",
   "mimetype": "text/x-python",
   "name": "python",
   "nbconvert_exporter": "python",
   "pygments_lexer": "ipython3",
   "version": "3.9.13"
  }
 },
 "nbformat": 4,
 "nbformat_minor": 2
}
